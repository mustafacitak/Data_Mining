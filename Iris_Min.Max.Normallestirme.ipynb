{
 "cells": [
  {
   "cell_type": "code",
   "execution_count": 1,
   "id": "3cb630e4",
   "metadata": {},
   "outputs": [],
   "source": [
    "import pandas as pd\n",
    "import numpy as np\n",
    "from sklearn.preprocessing import MinMaxScaler"
   ]
  },
  {
   "cell_type": "code",
   "execution_count": null,
   "id": "5a6a22c6",
   "metadata": {},
   "outputs": [],
   "source": [
    "#Dataseti kütüphaneden çekme işlemi \n",
    "\n",
    "\n",
    "# from sklearn import datasets\n",
    "# from sklearn.datasets import load_iris\n",
    "# iris = load_iris()\n",
    "# df = pd.DataFrame(data=iris.data, columns=iris.feature_names)\n",
    "\n",
    "# print(df)\n",
    "# print(\"\\n\")\n",
    "# print(iris.feature_names)"
   ]
  },
  {
   "cell_type": "code",
   "execution_count": null,
   "id": "9bd968e7",
   "metadata": {},
   "outputs": [],
   "source": [
    "#Min-Max normalleştirme işlemlerini uygulamak için, makine öğrenmesinin en\n",
    "#iyi bilinen veri kümelerinden birisi olan iris veri kümesi tercih edilebilir. \n",
    "#Bu veri kümesi UCI veri platformundan aşağıda belirtildiği biçimde doğrudan okunabilir."
   ]
  },
  {
   "cell_type": "code",
   "execution_count": 20,
   "id": "43785924",
   "metadata": {},
   "outputs": [
    {
     "name": "stdout",
     "output_type": "stream",
     "text": [
      "Index(['Id', 'SepalLengthCm', 'SepalWidthCm', 'PetalLengthCm', 'PetalWidthCm',\n",
      "       'Species'],\n",
      "      dtype='object')\n",
      "\n",
      "\n",
      "   Id  SepalLengthCm  SepalWidthCm  PetalLengthCm  PetalWidthCm      Species\n",
      "0   1            5.1           3.5            1.4           0.2  Iris-setosa\n",
      "1   2            4.9           3.0            1.4           0.2  Iris-setosa\n",
      "2   3            4.7           3.2            1.3           0.2  Iris-setosa\n",
      "3   4            4.6           3.1            1.5           0.2  Iris-setosa\n",
      "4   5            5.0           3.6            1.4           0.2  Iris-setosa\n"
     ]
    },
    {
     "data": {
      "text/plain": [
       "(150, 6)"
      ]
     },
     "execution_count": 20,
     "metadata": {},
     "output_type": "execute_result"
    }
   ],
   "source": [
    "data = pd.read_csv(\"/Users/mustafacitak/Desktop/Python/Data_Science/Iris.csv\")\n",
    "names = data.columns\n",
    "\n",
    "\n",
    "print(names)\n",
    "print(\"\\n\")\n",
    "print(data.head())\n",
    "#verinin satır ve sütun uzunluğuna bakıyoruz.\n",
    "data.shape"
   ]
  },
  {
   "cell_type": "code",
   "execution_count": 22,
   "id": "a6a2e3e1",
   "metadata": {},
   "outputs": [],
   "source": [
    "# Veri kümesinin son özniteliği sınıf bilgilerini içerir.\n",
    "#Bu öznitelik veri kümesinden ayrılarak ayrı bir vektör içine yerleştirilir. \n",
    "#Geriye kalan öznitelikler üzerine normalleştirme işlemi uygulanır.\n",
    "\n",
    "X = data.iloc[:, 0:5]\n",
    "Y = data.iloc[:, 5]"
   ]
  },
  {
   "cell_type": "code",
   "execution_count": 23,
   "id": "40aade93",
   "metadata": {},
   "outputs": [],
   "source": [
    "# Python'un sklearn paketi kapsamında olan MinMaxScaler() fonksiyonu yardımıyla normalleştirme sağlanır. \n",
    "#Bu fonksiyon tüm öznitelikleri (0,1) aralığına sığdırmak üzere dönüştürür. \n",
    "#İkinci satırdaki transform() fonksiyonu X verisine normalizasyon işlemini uygular.\n",
    "\n",
    "from sklearn.preprocessing import MinMaxScaler\n",
    "islem = MinMaxScaler(feature_range=(0, 1))\n",
    "yeni = islem.fit_transform(X)"
   ]
  },
  {
   "cell_type": "code",
   "execution_count": 24,
   "id": "53a1dce4",
   "metadata": {},
   "outputs": [
    {
     "name": "stdout",
     "output_type": "stream",
     "text": [
      "           Id  SepalLengthCm  SepalWidthCm  PetalLengthCm  PetalWidthCm\n",
      "0    0.000000       0.222222      0.625000       0.067797      0.041667\n",
      "1    0.006711       0.166667      0.416667       0.067797      0.041667\n",
      "2    0.013423       0.111111      0.500000       0.050847      0.041667\n",
      "3    0.020134       0.083333      0.458333       0.084746      0.041667\n",
      "4    0.026846       0.194444      0.666667       0.067797      0.041667\n",
      "..        ...            ...           ...            ...           ...\n",
      "145  0.973154       0.666667      0.416667       0.711864      0.916667\n",
      "146  0.979866       0.555556      0.208333       0.677966      0.750000\n",
      "147  0.986577       0.611111      0.416667       0.711864      0.791667\n",
      "148  0.993289       0.527778      0.583333       0.745763      0.916667\n",
      "149  1.000000       0.444444      0.416667       0.694915      0.708333\n",
      "\n",
      "[150 rows x 5 columns]\n"
     ]
    }
   ],
   "source": [
    "# Dönüştürülen veri bu kez başlıkları da içerecek şekilde veri çerçevesine dönüştürülür. \n",
    "# Sonuç olarak normalleştirilmiş veri kümesi görüntülenir.\n",
    "\n",
    "veri_norm = pd.DataFrame(yeni, columns=X.columns)\n",
    "print(veri_norm)"
   ]
  },
  {
   "cell_type": "code",
   "execution_count": null,
   "id": "0c2f087b",
   "metadata": {},
   "outputs": [],
   "source": []
  }
 ],
 "metadata": {
  "kernelspec": {
   "display_name": "Python 3 (ipykernel)",
   "language": "python",
   "name": "python3"
  },
  "language_info": {
   "codemirror_mode": {
    "name": "ipython",
    "version": 3
   },
   "file_extension": ".py",
   "mimetype": "text/x-python",
   "name": "python",
   "nbconvert_exporter": "python",
   "pygments_lexer": "ipython3",
   "version": "3.11.5"
  }
 },
 "nbformat": 4,
 "nbformat_minor": 5
}
