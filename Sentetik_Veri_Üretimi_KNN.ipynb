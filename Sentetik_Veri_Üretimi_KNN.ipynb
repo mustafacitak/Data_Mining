{
 "cells": [
  {
   "cell_type": "code",
   "execution_count": 1,
   "id": "b92dd06a",
   "metadata": {},
   "outputs": [
    {
     "name": "stdout",
     "output_type": "stream",
     "text": [
      "Üretilen Yeni Sentetik Veri Noktaları:\n",
      "[1.42523737 1.42523737]\n",
      "[2.70167982 2.70167982]\n",
      "[2.29217603 2.29217603]\n"
     ]
    }
   ],
   "source": [
    "import numpy as np\n",
    "from sklearn.neighbors import NearestNeighbors\n",
    "\n",
    "# Örnek veri kümesi\n",
    "ornek_veri = np.array([[1, 1], [2, 2], [3, 3]])\n",
    "\n",
    "# K-komşu sayısı\n",
    "k = 2\n",
    "\n",
    "# K-komşuları bulmak için komşuluk modeli oluşturulur\n",
    "komşuluk_modeli = NearestNeighbors(n_neighbors=k+1)\n",
    "\n",
    "# Model, örnek veri kümesine uyarlanır\n",
    "komşuluk_modeli.fit(ornek_veri)\n",
    "\n",
    "# Yeni sentetik veri noktalarının depolanacağı bir liste oluşturulur\n",
    "yeni_veriler = []\n",
    "\n",
    "# Her veri noktası için işlem yapılır\n",
    "for veri in ornek_veri:\n",
    "    # K-komşuları bulunur (veri noktası dahil)\n",
    "    _, indeksler = komşuluk_modeli.kneighbors([veri])\n",
    "    \n",
    "    # Kendi hariç k komşunun indeksleri alınır\n",
    "    komşu_indeksleri = indeksler[0][1:]\n",
    "    \n",
    "    # K-komşulardan rastgele bir komşu seçilir\n",
    "    secilen_komşu = ornek_veri[np.random.choice(komşu_indeksleri)]\n",
    "    \n",
    "    # Orta nokta algoritması ile sentetik veri üretilir\n",
    "    sentetik_veri = veri + np.random.uniform(0, 1) * (secilen_komşu - veri)\n",
    "    \n",
    "    # Yeni sentetik veri, listeye eklenir\n",
    "    yeni_veriler.append(sentetik_veri)\n",
    "\n",
    "# Üretilen yeni sentetik veri noktaları yazdırılır\n",
    "print(\"Üretilen Yeni Sentetik Veri Noktaları:\")\n",
    "for veri in yeni_veriler:\n",
    "    print(veri)\n"
   ]
  },
  {
   "cell_type": "code",
   "execution_count": null,
   "id": "fd5ef06c",
   "metadata": {},
   "outputs": [],
   "source": []
  }
 ],
 "metadata": {
  "kernelspec": {
   "display_name": "Python 3 (ipykernel)",
   "language": "python",
   "name": "python3"
  },
  "language_info": {
   "codemirror_mode": {
    "name": "ipython",
    "version": 3
   },
   "file_extension": ".py",
   "mimetype": "text/x-python",
   "name": "python",
   "nbconvert_exporter": "python",
   "pygments_lexer": "ipython3",
   "version": "3.11.5"
  }
 },
 "nbformat": 4,
 "nbformat_minor": 5
}
