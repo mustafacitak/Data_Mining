{
 "cells": [
  {
   "cell_type": "code",
   "execution_count": 5,
   "id": "da6d31c2",
   "metadata": {},
   "outputs": [],
   "source": [
    "import pandas as pd\n",
    "from sklearn.preprocessing import StandardScaler\n",
    "from sklearn.decomposition import PCA"
   ]
  },
  {
   "cell_type": "code",
   "execution_count": 3,
   "id": "167622ad",
   "metadata": {},
   "outputs": [
    {
     "data": {
      "text/plain": [
       "'\\nBu bölümde yoğun biçimde kullandığımız iris verisini bu kez PCA verilerinin oluşturulması amacıyla kullanacağız. \\nAmacımız iris verisinin 4 özniteliğinin sayısını azaltarak 2 özniteliğe dönüştürülmesini sağlamaktır.\\n\\n'"
      ]
     },
     "execution_count": 3,
     "metadata": {},
     "output_type": "execute_result"
    }
   ],
   "source": [
    "\"\"\"\n",
    "Bu bölümde yoğun biçimde kullandığımız iris verisini bu kez PCA verilerinin oluşturulması amacıyla kullanacağız. \n",
    "Amacımız iris verisinin 4 özniteliğinin sayısını azaltarak 2 özniteliğe dönüştürülmesini sağlamaktır.\n",
    "\n",
    "\"\"\""
   ]
  },
  {
   "cell_type": "code",
   "execution_count": 6,
   "id": "b3920dd6",
   "metadata": {},
   "outputs": [
    {
     "name": "stdout",
     "output_type": "stream",
     "text": [
      "Index(['Id', 'SepalLengthCm', 'SepalWidthCm', 'PetalLengthCm', 'PetalWidthCm',\n",
      "       'Species'],\n",
      "      dtype='object')\n",
      "\n",
      "\n",
      "   Id  SepalLengthCm  SepalWidthCm  PetalLengthCm  PetalWidthCm      Species\n",
      "0   1            5.1           3.5            1.4           0.2  Iris-setosa\n",
      "1   2            4.9           3.0            1.4           0.2  Iris-setosa\n",
      "2   3            4.7           3.2            1.3           0.2  Iris-setosa\n",
      "3   4            4.6           3.1            1.5           0.2  Iris-setosa\n",
      "4   5            5.0           3.6            1.4           0.2  Iris-setosa\n"
     ]
    },
    {
     "data": {
      "text/plain": [
       "(150, 6)"
      ]
     },
     "execution_count": 6,
     "metadata": {},
     "output_type": "execute_result"
    }
   ],
   "source": [
    "# Z-score normalizasyonu yöntemini yukarıda yer verilen iris veri kümesine uygulamak amacındayız. \n",
    "#Veri kümesi yine veri deposundan doğrudan Python oturumuna yüklenir.\n",
    "\n",
    "data = pd.read_csv(\"/Users/mustafacitak/Desktop/Python/Data_Science/Iris.csv\")\n",
    "names = data.columns\n",
    "\n",
    "\n",
    "print(names)\n",
    "print(\"\\n\")\n",
    "print(data.head())\n",
    "#verinin satır ve sütun uzunluğuna bakıyoruz.\n",
    "data.shape"
   ]
  },
  {
   "cell_type": "code",
   "execution_count": 7,
   "id": "36ed9e08",
   "metadata": {},
   "outputs": [],
   "source": [
    "# Boyut azaltma işlemine başlamadan önce, gerekli karşılaştırmaları yapmak üzere içeriği görüntülenir. \n",
    "#Burada yer alan ilk 4 öznitelik yerine PCA ile dönüştürülmüş 2 öznitelikli yeni bir veri seti elde edilecektir."
   ]
  },
  {
   "cell_type": "code",
   "execution_count": 18,
   "id": "00c42f89",
   "metadata": {},
   "outputs": [],
   "source": [
    "# Öncelikle PCA uygulanacak öznitelikler seçilir. Biz mevcut 4 öznitelik için uygulanmasını istiyoruz. X veri çerçevesi seçilen bu öznitelik değerlerini içerir.\n",
    "# Öznitelikler seçilir\n",
    "X = data.iloc[:, 0:4].values\n",
    "\n",
    "# Sınıf özniteliği ayrılır\n",
    "y = data.iloc[:, 4].values\n",
    "\n",
    "# PCA yöntemini uygulayabilmek için ilgili verinin normalize edilmesi beklenir.\n",
    "# Normalleştirme işlemi\n",
    "X = StandardScaler().fit_transform(X)\n",
    "\n",
    "# Gerekli ön işlemler yapıldıktan sonra sıra PCA işlemine gelir. Bu amaçla aşağıdaki işlemler gerçekleştirilir. Bu işlemler sonucunda dört öznitelikten oluşan veri kümesi iki özniteliğe dönüşür.\n",
    "# PCA işleminin yapılması\n",
    "from sklearn.decomposition import PCA\n",
    "pca = PCA(n_components=2)\n",
    "PCA_bilesenleri = pca.fit_transform(X)\n"
   ]
  },
  {
   "cell_type": "code",
   "execution_count": 19,
   "id": "8233adeb",
   "metadata": {},
   "outputs": [
    {
     "name": "stdout",
     "output_type": "stream",
     "text": [
      "      PCA 1     PCA 2\n",
      "0 -2.501021  0.451868\n",
      "1 -2.279945 -0.696698\n",
      "2 -2.559435 -0.383488\n",
      "3 -2.476060 -0.636243\n",
      "4 -2.579407  0.611050\n",
      "5 -2.416087  1.454425\n",
      "6 -2.671285 -0.011255\n",
      "7 -2.374283  0.196666\n",
      "8 -2.437434 -1.159612\n",
      "9 -2.211205 -0.481981\n",
      "\n",
      "\n",
      "        PCA 1     PCA 2  Species\n",
      "0   -2.501021  0.451868      0.2\n",
      "1   -2.279945 -0.696698      0.2\n",
      "2   -2.559435 -0.383488      0.2\n",
      "3   -2.476060 -0.636243      0.2\n",
      "4   -2.579407  0.611050      0.2\n",
      "..        ...       ...      ...\n",
      "145  1.953963  0.391855      2.3\n",
      "146  1.982991 -0.866112      1.9\n",
      "147  1.854045  0.290264      2.0\n",
      "148  1.478182  0.982267      2.3\n",
      "149  1.469901 -0.019039      1.8\n",
      "\n",
      "[150 rows x 3 columns]\n"
     ]
    }
   ],
   "source": [
    "# PCA verisi DataFrame'e dönüştürülür\n",
    "\n",
    "PCA_veri = pd.DataFrame(data=PCA_bilesenleri, columns=['PCA 1', 'PCA 2'])\n",
    "\n",
    "print(PCA_veri.head(10))\n",
    "print(\"\\n\")\n",
    "\n",
    "\n",
    "# Bu veri kümesini sınıf özniteliği olan y vektörü ile birleştirerek analizler için hazır bir \n",
    "#veri kümesi elde edilir.\n",
    "\n",
    "y = pd.DataFrame(y, columns=[\"Species\"])\n",
    "sonuc_veri = pd.concat([PCA_veri, y], axis=1)\n",
    "\n",
    "print(sonuc_veri)"
   ]
  },
  {
   "cell_type": "code",
   "execution_count": null,
   "id": "a3ba8d52",
   "metadata": {},
   "outputs": [],
   "source": []
  }
 ],
 "metadata": {
  "kernelspec": {
   "display_name": "Python 3 (ipykernel)",
   "language": "python",
   "name": "python3"
  },
  "language_info": {
   "codemirror_mode": {
    "name": "ipython",
    "version": 3
   },
   "file_extension": ".py",
   "mimetype": "text/x-python",
   "name": "python",
   "nbconvert_exporter": "python",
   "pygments_lexer": "ipython3",
   "version": "3.11.5"
  }
 },
 "nbformat": 4,
 "nbformat_minor": 5
}
