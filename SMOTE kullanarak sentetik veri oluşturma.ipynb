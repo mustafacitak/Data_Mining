{
 "cells": [
  {
   "cell_type": "code",
   "execution_count": null,
   "id": "6bfe9968",
   "metadata": {},
   "outputs": [],
   "source": [
    "# SMOTE kullanarak sentetik veri oluşturma"
   ]
  },
  {
   "cell_type": "code",
   "execution_count": 2,
   "id": "cdf27e4b",
   "metadata": {},
   "outputs": [
    {
     "name": "stdout",
     "output_type": "stream",
     "text": [
      "Sentetik Veri Seti:\n",
      "      Id  SepalLengthCm  SepalWidthCm  PetalLengthCm  PetalWidthCm\n",
      "0      1            5.1           3.5            1.4           0.2\n",
      "1      2            4.9           3.0            1.4           0.2\n",
      "2      3            4.7           3.2            1.3           0.2\n",
      "3      4            4.6           3.1            1.5           0.2\n",
      "4      5            5.0           3.6            1.4           0.2\n",
      "..   ...            ...           ...            ...           ...\n",
      "145  146            6.7           3.0            5.2           2.3\n",
      "146  147            6.3           2.5            5.0           1.9\n",
      "147  148            6.5           3.0            5.2           2.0\n",
      "148  149            6.2           3.4            5.4           2.3\n",
      "149  150            5.9           3.0            5.1           1.8\n",
      "\n",
      "[150 rows x 5 columns]\n",
      "Sentetik Veri Sınıf Dağılımı:\n",
      "Species\n",
      "Iris-setosa        50\n",
      "Iris-versicolor    50\n",
      "Iris-virginica     50\n",
      "Name: count, dtype: int64\n"
     ]
    }
   ],
   "source": [
    "# Gerekli kütüphanelerin import edilmesi\n",
    "import numpy as np\n",
    "import pandas as pd\n",
    "from imblearn.over_sampling import SMOTE\n",
    "\n",
    "# Veri setinin yüklenmesi\n",
    "veri = pd.read_csv(\"/Users/mustafacitak/Desktop/Python/Data_Science/Iris.csv\")\n",
    "\n",
    "\n",
    "# Bağımsız değişkenler (X) ve bağımlı değişkenlerin (y) ayrılması\n",
    "X = veri.drop(columns=[\"Species\"])  # Bağımsız değişkenler\n",
    "y = veri[\"Species\"]  # Bağımlı değişken\n",
    "\n",
    "# SMOTE kullanarak sentetik veri oluşturma\n",
    "smote = SMOTE(random_state=42)  # SMOTE örneği oluşturulması\n",
    "X_üzeri, y_üzeri = smote.fit_resample(X, y)  # SMOTE uygulanması\n",
    "\n",
    "# Sentetik veri oluşturulduktan sonra yeni veri setinin gösterilmesi\n",
    "print(\"Sentetik Veri Seti:\")\n",
    "print(X_üzeri)\n",
    "print(\"Sentetik Veri Sınıf Dağılımı:\")\n",
    "print(y_üzeri.value_counts())\n"
   ]
  },
  {
   "cell_type": "code",
   "execution_count": null,
   "id": "78ddba6a",
   "metadata": {},
   "outputs": [],
   "source": []
  }
 ],
 "metadata": {
  "kernelspec": {
   "display_name": "Python 3 (ipykernel)",
   "language": "python",
   "name": "python3"
  },
  "language_info": {
   "codemirror_mode": {
    "name": "ipython",
    "version": 3
   },
   "file_extension": ".py",
   "mimetype": "text/x-python",
   "name": "python",
   "nbconvert_exporter": "python",
   "pygments_lexer": "ipython3",
   "version": "3.11.5"
  }
 },
 "nbformat": 4,
 "nbformat_minor": 5
}
