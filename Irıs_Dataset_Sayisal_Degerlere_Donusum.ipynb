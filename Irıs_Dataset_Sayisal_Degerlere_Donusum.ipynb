{
 "cells": [
  {
   "cell_type": "code",
   "execution_count": 2,
   "id": "52fa76aa",
   "metadata": {},
   "outputs": [],
   "source": [
    "import pandas as pd\n",
    "import numpy as np\n",
    "from sklearn.preprocessing import LabelEncoder"
   ]
  },
  {
   "cell_type": "code",
   "execution_count": 3,
   "id": "e92a950a",
   "metadata": {},
   "outputs": [],
   "source": [
    "# Iris Veri Kümesinde Sayısal Değerlere Dönüşüm\n",
    "# Yine iris verisini kullanarak kategorik verinin sayısal değerlere nasıl dönüştürülebileceğini göreceğiz. Bu veri kümesinin sadece sınıf özniteliği kategorik olduğundan bu özniteliğin sayısal hale dönüştürülmesini sağlamak amacındayız. Veri kümesinin yüklenmesi işlemi yukarıda anlatıldığından bu kez üzerinde durulmayacaktır."
   ]
  },
  {
   "cell_type": "code",
   "execution_count": 4,
   "id": "5460db1a",
   "metadata": {},
   "outputs": [
    {
     "name": "stdout",
     "output_type": "stream",
     "text": [
      "Index(['Id', 'SepalLengthCm', 'SepalWidthCm', 'PetalLengthCm', 'PetalWidthCm',\n",
      "       'Species'],\n",
      "      dtype='object')\n",
      "\n",
      "\n",
      "   Id  SepalLengthCm  SepalWidthCm  PetalLengthCm  PetalWidthCm      Species\n",
      "0   1            5.1           3.5            1.4           0.2  Iris-setosa\n",
      "1   2            4.9           3.0            1.4           0.2  Iris-setosa\n",
      "2   3            4.7           3.2            1.3           0.2  Iris-setosa\n",
      "3   4            4.6           3.1            1.5           0.2  Iris-setosa\n",
      "4   5            5.0           3.6            1.4           0.2  Iris-setosa\n"
     ]
    },
    {
     "data": {
      "text/plain": [
       "(150, 6)"
      ]
     },
     "execution_count": 4,
     "metadata": {},
     "output_type": "execute_result"
    }
   ],
   "source": [
    "# Z-score normalizasyonu yöntemini yukarıda yer verilen iris veri kümesine uygulamak amacındayız. \n",
    "#Veri kümesi yine veri deposundan doğrudan Python oturumuna yüklenir.\n",
    "# Veri kümesinin yüklenmesi\n",
    "\n",
    "data = pd.read_csv(\"/Users/mustafacitak/Desktop/Python/Data_Science/Iris.csv\")\n",
    "names = data.columns\n",
    "\n",
    "\n",
    "print(names)\n",
    "print(\"\\n\")\n",
    "print(data.head())\n",
    "#verinin satır ve sütun uzunluğuna bakıyoruz.\n",
    "data.shape"
   ]
  },
  {
   "cell_type": "code",
   "execution_count": 7,
   "id": "473e9960",
   "metadata": {},
   "outputs": [
    {
     "name": "stdout",
     "output_type": "stream",
     "text": [
      "0         Iris-setosa\n",
      "1         Iris-setosa\n",
      "2         Iris-setosa\n",
      "3         Iris-setosa\n",
      "4         Iris-setosa\n",
      "            ...      \n",
      "145    Iris-virginica\n",
      "146    Iris-virginica\n",
      "147    Iris-virginica\n",
      "148    Iris-virginica\n",
      "149    Iris-virginica\n",
      "Name: Species, Length: 150, dtype: object\n",
      "\n",
      "\n",
      "[0 0 0 0 0 0 0 0 0 0 0 0 0 0 0 0 0 0 0 0 0 0 0 0 0 0 0 0 0 0 0 0 0 0 0 0 0\n",
      " 0 0 0 0 0 0 0 0 0 0 0 0 0 1 1 1 1 1 1 1 1 1 1 1 1 1 1 1 1 1 1 1 1 1 1 1 1\n",
      " 1 1 1 1 1 1 1 1 1 1 1 1 1 1 1 1 1 1 1 1 1 1 1 1 1 1 2 2 2 2 2 2 2 2 2 2 2\n",
      " 2 2 2 2 2 2 2 2 2 2 2 2 2 2 2 2 2 2 2 2 2 2 2 2 2 2 2 2 2 2 2 2 2 2 2 2 2\n",
      " 2 2]\n"
     ]
    }
   ],
   "source": [
    "X = data.drop('Species', axis=1)\n",
    "y = data['Species']\n",
    "print(y)\n",
    "print(\"\\n\")\n",
    "\n",
    "\n",
    "# Yukarıda görüldüğü gibi, veri kümesinin sınıf özniteliği kategorik veriden oluşmaktadır. \n",
    "#Bu değerleri sayısal değerlere dönüştürmek üzere LabelEncoder() fonksiyonu kullanıldı. \n",
    "#Sonuç olarak söz konusu vektör görüntülendiğinde, içerdiği kategorik değerlerin \n",
    "#yerine 0, 1 ve 2 sayısal değerlerinin atandığı anlaşılır.\n",
    "\n",
    "\n",
    "\n",
    "# Kategorik niteliği sayısal değere dönüştürmek\n",
    "dönüştürüldü = LabelEncoder()\n",
    "y = dönüştürüldü.fit_transform(y)\n",
    "print(y)\n"
   ]
  },
  {
   "cell_type": "code",
   "execution_count": null,
   "id": "2ba2da7d",
   "metadata": {},
   "outputs": [],
   "source": []
  }
 ],
 "metadata": {
  "kernelspec": {
   "display_name": "Python 3 (ipykernel)",
   "language": "python",
   "name": "python3"
  },
  "language_info": {
   "codemirror_mode": {
    "name": "ipython",
    "version": 3
   },
   "file_extension": ".py",
   "mimetype": "text/x-python",
   "name": "python",
   "nbconvert_exporter": "python",
   "pygments_lexer": "ipython3",
   "version": "3.11.5"
  }
 },
 "nbformat": 4,
 "nbformat_minor": 5
}
