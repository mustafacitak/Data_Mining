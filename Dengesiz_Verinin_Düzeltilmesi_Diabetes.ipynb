{
 "cells": [
  {
   "cell_type": "code",
   "execution_count": 24,
   "id": "0a8a9b35",
   "metadata": {},
   "outputs": [
    {
     "name": "stdout",
     "output_type": "stream",
     "text": [
      "Sınıfların Dağılımı:\n",
      " col_0  count\n",
      "row_0       \n",
      "0.0      500\n",
      "1.0      268\n"
     ]
    }
   ],
   "source": [
    "import numpy as np\n",
    "import pandas as pd\n",
    "from imblearn import under_sampling, over_sampling\n",
    "from imblearn.over_sampling import SMOTE\n",
    "\n",
    "# Veri kümesinin yüklenmesi\n",
    "\n",
    "okunan = pd.read_csv(\"/Users/mustafacitak/Desktop/Python/Data_Science/diabetes.csv\")\n",
    "\n",
    "\n",
    "#print(okunan)\n",
    "\n",
    "# Veri kümesini bir diziye dönüştürelim\n",
    "\n",
    "veri = okunan.values\n",
    "\n",
    "#print(veri)\n",
    "\n",
    "# Veri kümesinden sınıf özniteliği ayrılır\n",
    "\n",
    "y = veri[:, 8]\n",
    "X = veri[:, 0:8]\n",
    "\n",
    "# Bu aşamada veri kümesinin dengeli olup olmadığını test edebiliriz.\n",
    "# Bunun için crosstab() fonksiyonu kullanılır.\n",
    "# Elde edilen sonuca göre birinci öznitelik değerinin 500, diğerinin ise 268 gözlem olduğu anlaşılıyor.\n",
    "# Veri kümesinin dengesiz olduğu söylenebilir.\n",
    "\n",
    "print(\"Sınıfların Dağılımı:\\n\", pd.crosstab(y, columns='count'))"
   ]
  },
  {
   "cell_type": "code",
   "execution_count": 25,
   "id": "8c5cc294",
   "metadata": {},
   "outputs": [
    {
     "name": "stdout",
     "output_type": "stream",
     "text": [
      "Sınıfların dağılımı: \n",
      " col_0  count\n",
      "row_0       \n",
      "0.0      500\n",
      "1.0      500\n"
     ]
    }
   ],
   "source": [
    "# Veri kümesi dengesiz olduğuna göre dengelemek için bir stratejinin belirlenmesi gerekiyor. \n",
    "#Biz aşırı örnekleme yöntemiyle dengelenmesini istiyoruz. Bunun için\n",
    "# SMOTE() fonksiyonu tercih edilir.\n",
    "from imblearn.over_sampling import SMOTE\n",
    "\n",
    "# Aşırı örnekleme yoluyla veri dengeli hale getirilir\n",
    "aşırı_örnekleme = SMOTE()\n",
    "X, y = aşırı_örnekleme.fit_resample(X, y)\n",
    "\n",
    "# Dengeleme yapıldıktan sonra sonucu görmek için yeniden test yapılabilir.\n",
    "# Şimdi dengeli mi ?\n",
    "\n",
    "print(\"Sınıfların dağılımı: \\n\", pd.crosstab(y, columns='count'))"
   ]
  },
  {
   "cell_type": "code",
   "execution_count": null,
   "id": "bf6b4174",
   "metadata": {},
   "outputs": [],
   "source": []
  }
 ],
 "metadata": {
  "kernelspec": {
   "display_name": "Python 3 (ipykernel)",
   "language": "python",
   "name": "python3"
  },
  "language_info": {
   "codemirror_mode": {
    "name": "ipython",
    "version": 3
   },
   "file_extension": ".py",
   "mimetype": "text/x-python",
   "name": "python",
   "nbconvert_exporter": "python",
   "pygments_lexer": "ipython3",
   "version": "3.11.5"
  }
 },
 "nbformat": 4,
 "nbformat_minor": 5
}
