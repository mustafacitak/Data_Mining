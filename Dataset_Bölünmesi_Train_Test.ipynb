{
 "cells": [
  {
   "cell_type": "code",
   "execution_count": 1,
   "id": "41b6d60f",
   "metadata": {},
   "outputs": [],
   "source": [
    "import pandas as pd\n",
    "from sklearn.model_selection import train_test_split"
   ]
  },
  {
   "cell_type": "code",
   "execution_count": 3,
   "id": "9ae6aeab",
   "metadata": {},
   "outputs": [
    {
     "name": "stdout",
     "output_type": "stream",
     "text": [
      "     sepal_length  sepal_width  petal_length  petal_width           class\n",
      "0             5.1          3.5           1.4          0.2     Iris-setosa\n",
      "1             4.9          3.0           1.4          0.2     Iris-setosa\n",
      "2             4.7          3.2           1.3          0.2     Iris-setosa\n",
      "3             4.6          3.1           1.5          0.2     Iris-setosa\n",
      "4             5.0          3.6           1.4          0.2     Iris-setosa\n",
      "..            ...          ...           ...          ...             ...\n",
      "145           6.7          3.0           5.2          2.3  Iris-virginica\n",
      "146           6.3          2.5           5.0          1.9  Iris-virginica\n",
      "147           6.5          3.0           5.2          2.0  Iris-virginica\n",
      "148           6.2          3.4           5.4          2.3  Iris-virginica\n",
      "149           5.9          3.0           5.1          1.8  Iris-virginica\n",
      "\n",
      "[150 rows x 5 columns]\n"
     ]
    }
   ],
   "source": [
    "# Makine öğrenmesinde ele alınan veri kümesinin bir kısmı eğitim, kalan kısmının ise test amacıyla kullanılmalıdır. \n",
    "# Başka yöntemlerde olsa da, özellikle pek çok derin öğrenme araştırmasında bu şekilde bir yol izlenir. \n",
    "# Yine iris verisini göz önüne alarak, %70'inin model eğitimi, kalan %30'luk kısmının ise \n",
    "#test amacıyla kullanılması amaçlanmaktadır.\n",
    "\n",
    "\n",
    "\n",
    "veri = pd.read_csv(\"https://archive.ics.uci.edu/ml/machine-learning-databases/iris/iris.data\", names=[\"sepal_length\", \"sepal_width\", \"petal_length\", \"petal_width\", \"class\"])\n",
    "\n",
    "print(veri)\n",
    "\n",
    "\n",
    "X = veri.iloc[:, 0:4]\n",
    "y = veri.iloc[:, 4]\n"
   ]
  },
  {
   "cell_type": "code",
   "execution_count": 8,
   "id": "804a2eda",
   "metadata": {},
   "outputs": [
    {
     "name": "stdout",
     "output_type": "stream",
     "text": [
      "Eğitim veri kümesi: (105, 4)\n",
      "\n",
      "\n",
      "Eğitim verisi sınıf kümesi: (105,)\n",
      "\n",
      "\n",
      "Test veri kümesi: (45, 4)\n",
      "\n",
      "\n",
      "Test verisi sınıf kümesi: (45,)\n"
     ]
    }
   ],
   "source": [
    "# Veri kümesini iki parçaya ayırmak için train_test_split() fonksiyonu kullanılır.\n",
    "\n",
    "X_train, X_test, y_train, y_test = train_test_split(X, y, test_size=0.30, random_state=123)\n",
    "\n",
    "# Elde edilen sonuçlar aşağıdaki gibi gösterilir.\n",
    "print(\"Eğitim veri kümesi:\", X_train.shape)\n",
    "print(\"\\n\")\n",
    "print(\"Eğitim verisi sınıf kümesi:\", y_train.shape)\n",
    "print(\"\\n\")\n",
    "print(\"Test veri kümesi:\", X_test.shape)\n",
    "print(\"\\n\")\n",
    "print(\"Test verisi sınıf kümesi:\", y_test.shape)"
   ]
  },
  {
   "cell_type": "code",
   "execution_count": null,
   "id": "97c0a99f",
   "metadata": {},
   "outputs": [],
   "source": []
  }
 ],
 "metadata": {
  "kernelspec": {
   "display_name": "Python 3 (ipykernel)",
   "language": "python",
   "name": "python3"
  },
  "language_info": {
   "codemirror_mode": {
    "name": "ipython",
    "version": 3
   },
   "file_extension": ".py",
   "mimetype": "text/x-python",
   "name": "python",
   "nbconvert_exporter": "python",
   "pygments_lexer": "ipython3",
   "version": "3.11.5"
  }
 },
 "nbformat": 4,
 "nbformat_minor": 5
}
