{
 "cells": [
  {
   "cell_type": "code",
   "execution_count": 10,
   "id": "5eadfb20",
   "metadata": {},
   "outputs": [
    {
     "name": "stdout",
     "output_type": "stream",
     "text": [
      "sepal length (cm) için Chi-Kare İstatistiği: 10.817820878494002, p-değeri: 0.004476514990225768\n",
      "sepal width (cm) için Chi-Kare İstatistiği: 3.7107283035324965, p-değeri: 0.15639598043162514\n",
      "petal length (cm) için Chi-Kare İstatistiği: 116.31261309207025, p-değeri: 5.533972277193866e-26\n",
      "petal width (cm) için Chi-Kare İstatistiği: 67.04836020011118, p-değeri: 2.758249653003403e-15\n"
     ]
    }
   ],
   "source": [
    "# Gerekli kütüphanelerin import edilmesi\n",
    "import numpy as np\n",
    "import pandas as pd\n",
    "from sklearn.datasets import load_iris\n",
    "from sklearn.feature_selection import chi2\n",
    "\n",
    "# Iris veri setinin yüklenmesi\n",
    "iris = load_iris()\n",
    "\n",
    "# Veri setinin bir DataFrame'e dönüştürülmesi\n",
    "X = pd.DataFrame(data=iris.data, columns=iris.feature_names)\n",
    "y = pd.Series(iris.target, name='target')\n",
    "\n",
    "# Chi-Kare Testi'nin uygulanması\n",
    "chi2_stat, p_values = chi2(X, y)\n",
    "\n",
    "# Her özelliğin Chi-Kare istatistiği ve p-değerlerinin yazdırılması\n",
    "for i, feature in enumerate(X.columns):\n",
    "    print(f\"{feature} için Chi-Kare İstatistiği: {chi2_stat[i]}, p-değeri: {p_values[i]}\")"
   ]
  },
  {
   "cell_type": "code",
   "execution_count": null,
   "id": "7b904379",
   "metadata": {},
   "outputs": [],
   "source": []
  }
 ],
 "metadata": {
  "kernelspec": {
   "display_name": "Python 3 (ipykernel)",
   "language": "python",
   "name": "python3"
  },
  "language_info": {
   "codemirror_mode": {
    "name": "ipython",
    "version": 3
   },
   "file_extension": ".py",
   "mimetype": "text/x-python",
   "name": "python",
   "nbconvert_exporter": "python",
   "pygments_lexer": "ipython3",
   "version": "3.11.5"
  }
 },
 "nbformat": 4,
 "nbformat_minor": 5
}
