{
 "cells": [
  {
   "cell_type": "code",
   "execution_count": 5,
   "id": "b7616e5c",
   "metadata": {},
   "outputs": [],
   "source": [
    "import pandas as pd\n",
    "from sklearn.preprocessing import StandardScaler"
   ]
  },
  {
   "cell_type": "code",
   "execution_count": 8,
   "id": "7f414046",
   "metadata": {},
   "outputs": [
    {
     "name": "stdout",
     "output_type": "stream",
     "text": [
      "Index(['Id', 'SepalLengthCm', 'SepalWidthCm', 'PetalLengthCm', 'PetalWidthCm',\n",
      "       'Species'],\n",
      "      dtype='object')\n",
      "\n",
      "\n",
      "   Id  SepalLengthCm  SepalWidthCm  PetalLengthCm  PetalWidthCm      Species\n",
      "0   1            5.1           3.5            1.4           0.2  Iris-setosa\n",
      "1   2            4.9           3.0            1.4           0.2  Iris-setosa\n",
      "2   3            4.7           3.2            1.3           0.2  Iris-setosa\n",
      "3   4            4.6           3.1            1.5           0.2  Iris-setosa\n",
      "4   5            5.0           3.6            1.4           0.2  Iris-setosa\n"
     ]
    },
    {
     "data": {
      "text/plain": [
       "(150, 6)"
      ]
     },
     "execution_count": 8,
     "metadata": {},
     "output_type": "execute_result"
    }
   ],
   "source": [
    "# Z-score normalizasyonu yöntemini yukarıda yer verilen iris veri kümesine uygulamak amacındayız. \n",
    "#Veri kümesi yine veri deposundan doğrudan Python oturumuna yüklenir.\n",
    "\n",
    "data = pd.read_csv(\"/Users/mustafacitak/Desktop/Python/Data_Science/Iris.csv\")\n",
    "names = data.columns\n",
    "\n",
    "\n",
    "print(names)\n",
    "print(\"\\n\")\n",
    "print(data.head())\n",
    "#verinin satır ve sütun uzunluğuna bakıyoruz.\n",
    "data.shape"
   ]
  },
  {
   "cell_type": "code",
   "execution_count": 14,
   "id": "e9c7cb1b",
   "metadata": {},
   "outputs": [],
   "source": [
    "# Veri kümesinin son özniteliği sınıf bilgilerini içerir.\n",
    "#Bu öznitelik veri kümesinden ayrılarak ayrı bir vektör içine yerleştirilir. \n",
    "#Geriye kalan öznitelikler üzerine normalleştirme işlemi uygulanır.\n",
    "\n",
    "X = data.iloc[:, 1:5]"
   ]
  },
  {
   "cell_type": "code",
   "execution_count": 15,
   "id": "93df91ce",
   "metadata": {},
   "outputs": [
    {
     "name": "stdout",
     "output_type": "stream",
     "text": [
      "     SepalLengthCm  SepalWidthCm  PetalLengthCm  PetalWidthCm\n",
      "0        -0.900681      1.032057      -1.341272     -1.312977\n",
      "1        -1.143017     -0.124958      -1.341272     -1.312977\n",
      "2        -1.385353      0.337848      -1.398138     -1.312977\n",
      "3        -1.506521      0.106445      -1.284407     -1.312977\n",
      "4        -1.021849      1.263460      -1.341272     -1.312977\n",
      "..             ...           ...            ...           ...\n",
      "145       1.038005     -0.124958       0.819624      1.447956\n",
      "146       0.553333     -1.281972       0.705893      0.922064\n",
      "147       0.795669     -0.124958       0.819624      1.053537\n",
      "148       0.432165      0.800654       0.933356      1.447956\n",
      "149       0.068662     -0.124958       0.762759      0.790591\n",
      "\n",
      "[150 rows x 4 columns]\n"
     ]
    }
   ],
   "source": [
    "# Normalizasyon işleminde StandardScaler() fonksiyonu kullanılır.\n",
    "from sklearn.preprocessing import StandardScaler\n",
    "\n",
    "islem = StandardScaler().fit(X)\n",
    "yeni = islem.transform(X)\n",
    "\n",
    "# Yeni veriyi bir veri çerçevesine dönüştürür ve sütun başlıklarını X'in sütun başlıklarıyla aynı yapar.\n",
    "yeni_veri = pd.DataFrame(yeni, columns=X.columns)\n",
    "\n",
    "print(yeni_veri)"
   ]
  },
  {
   "cell_type": "code",
   "execution_count": null,
   "id": "6d2da66b",
   "metadata": {},
   "outputs": [],
   "source": []
  }
 ],
 "metadata": {
  "kernelspec": {
   "display_name": "Python 3 (ipykernel)",
   "language": "python",
   "name": "python3"
  },
  "language_info": {
   "codemirror_mode": {
    "name": "ipython",
    "version": 3
   },
   "file_extension": ".py",
   "mimetype": "text/x-python",
   "name": "python",
   "nbconvert_exporter": "python",
   "pygments_lexer": "ipython3",
   "version": "3.11.5"
  }
 },
 "nbformat": 4,
 "nbformat_minor": 5
}
