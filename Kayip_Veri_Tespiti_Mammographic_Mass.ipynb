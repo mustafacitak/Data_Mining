{
 "cells": [
  {
   "cell_type": "code",
   "execution_count": 3,
   "id": "0d431f1c",
   "metadata": {},
   "outputs": [],
   "source": [
    "import pandas as pd\n",
    "import numpy as np"
   ]
  },
  {
   "cell_type": "code",
   "execution_count": 6,
   "id": "d4f65773",
   "metadata": {},
   "outputs": [
    {
     "name": "stdout",
     "output_type": "stream",
     "text": [
      "Index(['BI-RADS', 'Age', 'Shape', 'Margin', 'Density', 'Severity'], dtype='object')\n",
      "\n",
      "\n",
      "     BI-RADS  Age  Shape  Margin  Density  Severity\n",
      "0        5.0   67      3       5        3       1.0\n",
      "1        5.0   58      4       5        3       1.0\n",
      "2        4.0   28      1       1        3       NaN\n",
      "3        5.0   57      1       5        3       1.0\n",
      "4        5.0   76      1       4        3       1.0\n",
      "..       ...  ...    ...     ...      ...       ...\n",
      "825      4.0   47      2       1        3       NaN\n",
      "826      4.0   56      4       5        3       1.0\n",
      "827      4.0   64      4       5        3       NaN\n",
      "828      5.0   66      4       5        3       1.0\n",
      "829      4.0   62      3       3        3       NaN\n",
      "\n",
      "[830 rows x 6 columns]\n"
     ]
    }
   ],
   "source": [
    "#na_values fonksiyonu ile \"0\" veya \"?\" içeren satırları görüntülüyoruz.\n",
    "\n",
    "data = pd.read_csv(\"/Users/mustafacitak/Desktop/Python/Data_Science/mammographic_mass.csv\", na_values = ['0'])\n",
    "names = data.columns\n",
    "\n",
    "\n",
    "print(names)\n",
    "print(\"\\n\")\n",
    "print(data)"
   ]
  },
  {
   "cell_type": "code",
   "execution_count": 7,
   "id": "60625b25",
   "metadata": {},
   "outputs": [
    {
     "data": {
      "text/plain": [
       "(830, 6)"
      ]
     },
     "execution_count": 7,
     "metadata": {},
     "output_type": "execute_result"
    }
   ],
   "source": [
    "#verinin satır ve sütun uzunluğuna bakıyoruz.\n",
    "data.shape"
   ]
  },
  {
   "cell_type": "code",
   "execution_count": 8,
   "id": "ce0a366b",
   "metadata": {},
   "outputs": [
    {
     "name": "stdout",
     "output_type": "stream",
     "text": [
      "BI-RADS       5\n",
      "Age           0\n",
      "Shape         0\n",
      "Margin        0\n",
      "Density       0\n",
      "Severity    427\n",
      "dtype: int64\n"
     ]
    }
   ],
   "source": [
    "# Biraz önce sadece birkaç satırdaki eksik değerleri görebildik. Veri kümesindeki tüm eksik değerlerin\n",
    "# öznitelik bazında sayısı şu şekilde öğrenilebilir:\n",
    "\n",
    "print(np.isnan(data).sum())"
   ]
  },
  {
   "cell_type": "code",
   "execution_count": 9,
   "id": "92860da3",
   "metadata": {},
   "outputs": [
    {
     "name": "stdout",
     "output_type": "stream",
     "text": [
      "     BI-RADS  Age  Shape  Margin  Density  Severity\n",
      "0        5.0   67      3       5        3       1.0\n",
      "1        5.0   58      4       5        3       1.0\n",
      "3        5.0   57      1       5        3       1.0\n",
      "4        5.0   76      1       4        3       1.0\n",
      "5        3.0   42      2       1        3       1.0\n",
      "..       ...  ...    ...     ...      ...       ...\n",
      "820      5.0   67      4       5        3       1.0\n",
      "821      4.0   68      4       4        3       1.0\n",
      "824      4.0   52      4       4        3       1.0\n",
      "826      4.0   56      4       5        3       1.0\n",
      "828      5.0   66      4       5        3       1.0\n",
      "\n",
      "[400 rows x 6 columns]\n"
     ]
    }
   ],
   "source": [
    "# Bu aşamada, veri kümesindeki eksik değerler içeren satırların tamamının silinmesi\n",
    "# istendiğini varsayalım. Söz konusu amaca ulaşabilmek için dropna() fonksiyonu kullanılabilir. \n",
    "# Sonuç olarak, eksik değerler içeren tüm satırların yok edildiği görülür.\n",
    "\n",
    "# NaN içeren satırların silinmesi\n",
    "data.dropna(inplace=True)\n",
    "print(data)"
   ]
  },
  {
   "cell_type": "code",
   "execution_count": null,
   "id": "cba77f73",
   "metadata": {},
   "outputs": [],
   "source": []
  }
 ],
 "metadata": {
  "kernelspec": {
   "display_name": "Python 3 (ipykernel)",
   "language": "python",
   "name": "python3"
  },
  "language_info": {
   "codemirror_mode": {
    "name": "ipython",
    "version": 3
   },
   "file_extension": ".py",
   "mimetype": "text/x-python",
   "name": "python",
   "nbconvert_exporter": "python",
   "pygments_lexer": "ipython3",
   "version": "3.11.5"
  }
 },
 "nbformat": 4,
 "nbformat_minor": 5
}
