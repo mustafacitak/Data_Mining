{
 "cells": [
  {
   "cell_type": "code",
   "execution_count": 11,
   "id": "d2a8e927",
   "metadata": {},
   "outputs": [],
   "source": [
    "import pandas as pd\n",
    "import numpy as np\n",
    "from sklearn.impute import SimpleImputer"
   ]
  },
  {
   "cell_type": "code",
   "execution_count": 12,
   "id": "ab6bb939",
   "metadata": {},
   "outputs": [
    {
     "name": "stdout",
     "output_type": "stream",
     "text": [
      "     BI-RADS  Age  Shape  Margin  Density  Severity\n",
      "0        5.0   67      3       5        3       1.0\n",
      "1        5.0   58      4       5        3       1.0\n",
      "2        4.0   28      1       1        3       NaN\n",
      "3        5.0   57      1       5        3       1.0\n",
      "4        5.0   76      1       4        3       1.0\n",
      "..       ...  ...    ...     ...      ...       ...\n",
      "825      4.0   47      2       1        3       NaN\n",
      "826      4.0   56      4       5        3       1.0\n",
      "827      4.0   64      4       5        3       NaN\n",
      "828      5.0   66      4       5        3       1.0\n",
      "829      4.0   62      3       3        3       NaN\n",
      "\n",
      "[830 rows x 6 columns]\n",
      "\n",
      "\n",
      "Index(['BI-RADS', 'Age', 'Shape', 'Margin', 'Density', 'Severity'], dtype='object')\n"
     ]
    }
   ],
   "source": [
    "# Bir önceki uygulamadan kayıp verileri içeren gözlemler silinmişti. Bu kez herhangi bir silme işlemi yapılmadan,\n",
    "# kayıp verilerin yerine yeni değerlerin tahmin edilerek yerleştirilmesi yolu izlenecektir. Programın veri okuma\n",
    "# kısmı yukarıdaki uygulama ile aynıdır. Sadece paket ekleme kısmında SimpleImputer tanımı eklenmiştir.\n",
    "\n",
    "data = pd.read_csv(\"/Users/mustafacitak/Desktop/Python/Data_Science/mammographic_mass.csv\", na_values = ['0'])\n",
    "names = data.columns\n",
    "\n",
    "print(data)\n",
    "print(\"\\n\")\n",
    "print(names)"
   ]
  },
  {
   "cell_type": "code",
   "execution_count": 13,
   "id": "7830d1e7",
   "metadata": {},
   "outputs": [
    {
     "name": "stdout",
     "output_type": "stream",
     "text": [
      "     BI-RADS   Age  Shape  Margin  Density  Severity\n",
      "0        5.0  67.0    3.0     5.0      3.0       1.0\n",
      "1        5.0  58.0    4.0     5.0      3.0       1.0\n",
      "2        4.0  28.0    1.0     1.0      3.0       1.0\n",
      "3        5.0  57.0    1.0     5.0      3.0       1.0\n",
      "4        5.0  76.0    1.0     4.0      3.0       1.0\n",
      "..       ...   ...    ...     ...      ...       ...\n",
      "825      4.0  47.0    2.0     1.0      3.0       1.0\n",
      "826      4.0  56.0    4.0     5.0      3.0       1.0\n",
      "827      4.0  64.0    4.0     5.0      3.0       1.0\n",
      "828      5.0  66.0    4.0     5.0      3.0       1.0\n",
      "829      4.0  62.0    3.0     3.0      3.0       1.0\n",
      "\n",
      "[830 rows x 6 columns]\n"
     ]
    }
   ],
   "source": [
    "# Veri kümesi okunduktan sonra \"0\" işareti biçiminde işaretlenen kayıp alanlara NaN işaretini yerleştirilir.\n",
    "# Kayıp verinin nasıl tahmin edileceğine yönelik stratejiyi belirlemek üzere SimpleImputer() fonksiyonu kullanılır.\n",
    "\n",
    "# Kayıp değerlerin ortalaması hesaplanıyor\n",
    "imp_mean = SimpleImputer(missing_values=np.nan, strategy='mean')\n",
    "imp_mean.fit(data)\n",
    "\n",
    "# Strateji tanımlandıktan sonra bu stratejinin bu veri kümesi için uygulanması transform() fonksiyonu yardımıyla sağlanır.\n",
    "data = imp_mean.transform(data)\n",
    "data = pd.DataFrame(data, columns=names)\n",
    "\n",
    "print(data)\n"
   ]
  }
 ],
 "metadata": {
  "kernelspec": {
   "display_name": "Python 3 (ipykernel)",
   "language": "python",
   "name": "python3"
  },
  "language_info": {
   "codemirror_mode": {
    "name": "ipython",
    "version": 3
   },
   "file_extension": ".py",
   "mimetype": "text/x-python",
   "name": "python",
   "nbconvert_exporter": "python",
   "pygments_lexer": "ipython3",
   "version": "3.11.5"
  }
 },
 "nbformat": 4,
 "nbformat_minor": 5
}
