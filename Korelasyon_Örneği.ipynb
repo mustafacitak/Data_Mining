{
 "cells": [
  {
   "cell_type": "code",
   "execution_count": 1,
   "id": "77c27d5c",
   "metadata": {},
   "outputs": [
    {
     "name": "stdout",
     "output_type": "stream",
     "text": [
      "house_size ve house_price arasındaki korelasyon: 0.9732599280521631\n"
     ]
    }
   ],
   "source": [
    "import pandas as pd\n",
    "\n",
    "# Veri setini oluşturma\n",
    "data = {\n",
    "    'house_size': [100, 120, 80, 150, 90, 110, 70, 130, 140, 160, 180, 100, 120, 80, 150, 90, 110, 70, 130, 140, 160, 180, 120, 100, 140, 160, 180, 110],\n",
    "    'number_of_rooms': [2, 3, 2, 4, 2, 3, 1, 4, 3, 4, 5, 3, 2, 1, 5, 3, 2, 2, 4, 2, 5, 4, 4, 2, 3, 4, 5, 3],\n",
    "    'location': ['Merkez', 'Merkez', 'Banliyö', 'Merkez', 'Banliyö', 'Banliyö', 'Merkez', 'Banliyö', 'Merkez', 'Banliyö', 'Merkez', 'Banliyö', 'Merkez', 'Banliyö', 'Merkez', 'Banliyö', 'Merkez', 'Banliyö', 'Merkez', 'Banliyö', 'Merkez', 'Banliyö', 'Merkez', 'Banliyö', 'Merkez', 'Banliyö', 'Merkez', 'Banliyö'],\n",
    "    'house_price': [500000, 700000, 350000, 1000000, 400000, 600000, 300000, 800000, 900000, 1100000, 1300000, 550000, 650000, 325000, 1200000, 450000, 625000, 375000, 850000, 950000, 1400000, 1250000, 800000, 425000, 925000, 1150000, 1350000, 675000]\n",
    "}\n",
    "\n",
    "# Veri setini DataFrame'e dönüştürme\n",
    "df = pd.DataFrame(data)\n",
    "\n",
    "# 'house_size' ve 'house_price' arasındaki korelasyonu hesaplama\n",
    "correlation = df['house_size'].corr(df['house_price'])\n",
    "\n",
    "# Korelasyonu yazdırma\n",
    "print(\"house_size ve house_price arasındaki korelasyon:\", correlation)\n"
   ]
  }
 ],
 "metadata": {
  "kernelspec": {
   "display_name": "Python 3 (ipykernel)",
   "language": "python",
   "name": "python3"
  },
  "language_info": {
   "codemirror_mode": {
    "name": "ipython",
    "version": 3
   },
   "file_extension": ".py",
   "mimetype": "text/x-python",
   "name": "python",
   "nbconvert_exporter": "python",
   "pygments_lexer": "ipython3",
   "version": "3.11.5"
  }
 },
 "nbformat": 4,
 "nbformat_minor": 5
}
